{
 "cells": [
  {
   "cell_type": "code",
   "execution_count": 7,
   "id": "19f4deef",
   "metadata": {},
   "outputs": [
    {
     "name": "stdout",
     "output_type": "stream",
     "text": [
      "{'user': {'id': '1264815', 'hash_id': 'ssdklfghisuer5e5gdfg', 'username': 'someuesername', 'name': 'some full name'}}\n"
     ]
    }
   ],
   "source": [
    "\n",
    "user_id = \"1264815\"\n",
    "user_hash_id = \"ssdklfghisuer5e5gdfg\"\n",
    "username = \"someuesername\"\n",
    "name = \"some full name\"\n",
    "\n",
    "data = {\n",
    "    \"user\": {\n",
    "        \"id\": user_id,\n",
    "        \"hash_id\": user_hash_id,\n",
    "        \"username\": username,\n",
    "        \"name\": name\n",
    "    }\n",
    "}\n",
    "\n",
    "print (data)"
   ]
  },
  {
   "cell_type": "code",
   "execution_count": 2,
   "id": "d37ec8fe",
   "metadata": {},
   "outputs": [
    {
     "name": "stdout",
     "output_type": "stream",
     "text": [
      "200\n"
     ]
    }
   ],
   "source": [
    "import requests\n",
    "\n",
    "method=\"GET\"\n",
    "url=\"https://google.com\"\n",
    "\n",
    "response = requests.request(method=method, url=url)\n",
    "\n",
    "print(response.status_code)"
   ]
  }
 ],
 "metadata": {
  "kernelspec": {
   "display_name": ".venv",
   "language": "python",
   "name": "python3"
  },
  "language_info": {
   "codemirror_mode": {
    "name": "ipython",
    "version": 3
   },
   "file_extension": ".py",
   "mimetype": "text/x-python",
   "name": "python",
   "nbconvert_exporter": "python",
   "pygments_lexer": "ipython3",
   "version": "3.12.10"
  }
 },
 "nbformat": 4,
 "nbformat_minor": 5
}
